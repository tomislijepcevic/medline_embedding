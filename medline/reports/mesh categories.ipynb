{
 "cells": [
  {
   "cell_type": "code",
   "execution_count": 1,
   "metadata": {},
   "outputs": [],
   "source": [
    "%load_ext autoreload\n",
    "%autoreload 2"
   ]
  },
  {
   "cell_type": "code",
   "execution_count": 2,
   "metadata": {},
   "outputs": [],
   "source": [
    "import sys\n",
    "sys.path.insert(0,'../../')"
   ]
  },
  {
   "cell_type": "code",
   "execution_count": 3,
   "metadata": {},
   "outputs": [],
   "source": [
    "import numpy as np\n",
    "import pandas as pd"
   ]
  },
  {
   "cell_type": "code",
   "execution_count": 4,
   "metadata": {},
   "outputs": [],
   "source": [
    "descriptors, categories = zip(*[l.rstrip('\\n').split('\\t')\n",
    "                                for l in open('categories.tsv')])"
   ]
  },
  {
   "cell_type": "code",
   "execution_count": 5,
   "metadata": {},
   "outputs": [],
   "source": [
    "check_tags = [l.rstrip('\\n') for l in open('check_tags.txt')]"
   ]
  },
  {
   "cell_type": "code",
   "execution_count": 6,
   "metadata": {},
   "outputs": [],
   "source": [
    "from medline.mesh_tree import MeshTree\n",
    "\n",
    "tree = MeshTree()"
   ]
  },
  {
   "cell_type": "code",
   "execution_count": 7,
   "metadata": {},
   "outputs": [],
   "source": [
    "from medline.data import read_classes\n",
    "\n",
    "terms = read_classes()"
   ]
  },
  {
   "cell_type": "code",
   "execution_count": 8,
   "metadata": {},
   "outputs": [],
   "source": [
    "term_categories = [tree.get_categories(term) for term in terms]"
   ]
  },
  {
   "cell_type": "code",
   "execution_count": 9,
   "metadata": {},
   "outputs": [],
   "source": [
    "from sklearn.preprocessing import MultiLabelBinarizer\n",
    "\n",
    "mlb = MultiLabelBinarizer(descriptors)\n",
    "term_categories = mlb.fit_transform(term_categories)"
   ]
  },
  {
   "cell_type": "code",
   "execution_count": 10,
   "metadata": {},
   "outputs": [],
   "source": [
    "df = pd.DataFrame(term_categories, terms, categories)\n",
    "df.index.name = 'term'"
   ]
  },
  {
   "cell_type": "code",
   "execution_count": 11,
   "metadata": {},
   "outputs": [],
   "source": [
    "is_check_tag = np.zeros(len(terms), np.int)\n",
    "\n",
    "for check_tag in check_tags:\n",
    "    if check_tag not in terms:\n",
    "        continue\n",
    "\n",
    "    index = terms.index(check_tag)\n",
    "    is_check_tag[index] = 1\n",
    "\n",
    "df['Check Tag'] = is_check_tag"
   ]
  },
  {
   "cell_type": "code",
   "execution_count": 12,
   "metadata": {},
   "outputs": [],
   "source": [
    "df.to_csv('term_categories.tsv', sep='\\t', header=True)"
   ]
  },
  {
   "cell_type": "code",
   "execution_count": 13,
   "metadata": {},
   "outputs": [
    {
     "data": {
      "text/plain": [
       "category\n",
       "Chemicals and Drugs                                                 763\n",
       "Analytical), Diagnostic and Therapeutic Techniques and Equipment    566\n",
       "Biological Sciences                                                 503\n",
       "Diseases                                                            356\n",
       "Anatomy                                                             308\n",
       "Health Care                                                         270\n",
       "Psychiatry and Psychology                                           162\n",
       "Organisms                                                           112\n",
       "Information Science                                                  73\n",
       "Anthropology), Education), Sociology and Social Phenomena            58\n",
       "Technology and Food and Beverages                                    54\n",
       "Physical Sciences                                                    47\n",
       "Geographic Locations                                                 45\n",
       "Persons                                                              35\n",
       "Humanities                                                            5\n",
       "Publication Characteristics                                           0\n",
       "Name: terms, dtype: int64"
      ]
     },
     "execution_count": 13,
     "metadata": {},
     "output_type": "execute_result"
    }
   ],
   "source": [
    "categories = list(categories)\n",
    "\n",
    "df_sum = df[categories].sum().sort_values(ascending=False)\n",
    "df_sum.index.name = 'category'\n",
    "df_sum = df_sum.rename('terms')\n",
    "\n",
    "df_sum"
   ]
  }
 ],
 "metadata": {
  "kernelspec": {
   "display_name": "Python 3",
   "language": "python",
   "name": "python3"
  },
  "language_info": {
   "codemirror_mode": {
    "name": "ipython",
    "version": 3
   },
   "file_extension": ".py",
   "mimetype": "text/x-python",
   "name": "python",
   "nbconvert_exporter": "python",
   "pygments_lexer": "ipython3",
   "version": "3.5.3"
  }
 },
 "nbformat": 4,
 "nbformat_minor": 2
}
