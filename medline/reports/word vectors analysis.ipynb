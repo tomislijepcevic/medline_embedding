{
 "cells": [
  {
   "cell_type": "code",
   "execution_count": null,
   "metadata": {},
   "outputs": [],
   "source": [
    "from gensim.models.keyedvectors import KeyedVectors"
   ]
  },
  {
   "cell_type": "code",
   "execution_count": null,
   "metadata": {},
   "outputs": [],
   "source": [
    "model = KeyedVectors.load_word2vec_format('../../models/' + 'skipgram')"
   ]
  },
  {
   "cell_type": "code",
   "execution_count": null,
   "metadata": {},
   "outputs": [],
   "source": [
    "print('woman vs man', model.similarity('woman', 'man'))\n",
    "\n",
    "acc = model.accuracy('/mnt/hdd/tomi/questions-words.txt')\n",
    "\n",
    "sem_correct = sum((len(acc[i]['correct'])\n",
    "                   for i in range(5)))\n",
    "sem_total = sum((len(acc[i]['correct']) + len(acc[i]['incorrect']))\n",
    "                for i in range(5))\n",
    "sem_acc = 100 * float(sem_correct) / sem_total\n",
    "print('\\nSemantic: {:d}/{:d}, Accuracy: {:.2f}%'.format(\n",
    "    sem_correct, sem_total, sem_acc))\n",
    "\n",
    "syn_correct = sum((len(acc[i]['correct'])\n",
    "                   for i in range(5, len(acc) - 1)))\n",
    "syn_total = sum((len(acc[i]['correct']) + len(acc[i]['incorrect']))\n",
    "                for i in range(5, len(acc) - 1))\n",
    "syn_acc = 100 * float(syn_correct) / syn_total\n",
    "print('Syntactic: {:d}/{:d}, Accuracy: {:.2f}%\\n'.format(\n",
    "    syn_correct, syn_total, syn_acc))\n"
   ]
  }
 ],
 "metadata": {
  "kernelspec": {
   "display_name": "Python 3",
   "language": "python",
   "name": "python3"
  },
  "language_info": {
   "codemirror_mode": {
    "name": "ipython",
    "version": 3
   },
   "file_extension": ".py",
   "mimetype": "text/x-python",
   "name": "python",
   "nbconvert_exporter": "python",
   "pygments_lexer": "ipython3",
   "version": "3.5.3"
  }
 },
 "nbformat": 4,
 "nbformat_minor": 2
}
