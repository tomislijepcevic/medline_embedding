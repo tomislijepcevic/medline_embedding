{
 "cells": [
  {
   "cell_type": "code",
   "execution_count": 1,
   "metadata": {
    "ExecuteTime": {
     "end_time": "2017-10-12T21:41:06.880358Z",
     "start_time": "2017-10-12T21:41:06.863791Z"
    }
   },
   "outputs": [],
   "source": [
    "%load_ext autoreload\n",
    "%autoreload 2"
   ]
  },
  {
   "cell_type": "code",
   "execution_count": 2,
   "metadata": {},
   "outputs": [],
   "source": [
    "import sys\n",
    "sys.path.insert(0,'../../')"
   ]
  },
  {
   "cell_type": "code",
   "execution_count": 3,
   "metadata": {
    "ExecuteTime": {
     "end_time": "2017-10-12T21:41:07.293863Z",
     "start_time": "2017-10-12T21:41:06.881670Z"
    }
   },
   "outputs": [],
   "source": [
    "import numpy as np\n",
    "import pandas as pd\n",
    "import matplotlib.pyplot as plt\n",
    "from os import path\n",
    "from tabulate import tabulate\n",
    "\n",
    "%matplotlib inline"
   ]
  },
  {
   "cell_type": "code",
   "execution_count": 4,
   "metadata": {
    "ExecuteTime": {
     "end_time": "2017-10-12T21:41:07.319047Z",
     "start_time": "2017-10-12T21:41:07.295408Z"
    }
   },
   "outputs": [],
   "source": [
    "def get_score(model):\n",
    "    scores = pd.read_table('../../models/%s/scores.tsv' % model)\n",
    "    mean_score = scores.AP.mean()\n",
    "    \n",
    "    return mean_score"
   ]
  },
  {
   "cell_type": "code",
   "execution_count": 5,
   "metadata": {
    "ExecuteTime": {
     "end_time": "2017-10-12T21:41:07.345549Z",
     "start_time": "2017-10-12T21:41:07.320342Z"
    }
   },
   "outputs": [],
   "source": [
    "def plot_scores(xrange, scores, xlabel):\n",
    "    plt.xlabel(xlabel)\n",
    "    plt.ylabel('MAP')\n",
    "    plt.xticks(xrange)\n",
    "    plt.plot(xrange, scores, 'o--')"
   ]
  },
  {
   "cell_type": "markdown",
   "metadata": {},
   "source": [
    "## Tunning"
   ]
  },
  {
   "cell_type": "markdown",
   "metadata": {},
   "source": [
    "### Word vectors"
   ]
  },
  {
   "cell_type": "code",
   "execution_count": 6,
   "metadata": {
    "ExecuteTime": {
     "end_time": "2017-10-12T21:41:07.542484Z",
     "start_time": "2017-10-12T21:41:07.346993Z"
    }
   },
   "outputs": [
    {
     "name": "stdout",
     "output_type": "stream",
     "text": [
      "| besedni vektorji   |    MAP |\n",
      "|:-------------------|-------:|\n",
      "| naključni          | 0.2661 |\n",
      "| zvezna vreča       | 0.1157 |\n",
      "| Skip-Gram          | 0.2660 |\n"
     ]
    }
   ],
   "source": [
    "args = 'word_vectors/%sfl=100_lens=3-4-5_act=relu_pool_s=1_kmax=None_wv_d=0.0_pool_d=0.5_conv_bn=0_pool_bn=0'\n",
    "\n",
    "models = [\n",
    "    ('naključni', args % ''),\n",
    "    ('zvezna vreča', args % 'cbow_' ),\n",
    "    ('Skip-Gram', args % 'skipgram_'),\n",
    "]\n",
    "\n",
    "word_vectors, models = zip(*models)\n",
    "scores = [get_score(m) for m in models]\n",
    "headers = ['besedni vektorji', 'MAP']\n",
    "rows = zip(word_vectors, scores)\n",
    "\n",
    "print(tabulate(rows, headers=headers, tablefmt='pipe', floatfmt=\".4f\"))"
   ]
  },
  {
   "cell_type": "markdown",
   "metadata": {},
   "source": [
    "### Single filter length"
   ]
  },
  {
   "cell_type": "code",
   "execution_count": 7,
   "metadata": {
    "ExecuteTime": {
     "end_time": "2017-10-12T21:41:07.986090Z",
     "start_time": "2017-10-12T21:41:07.543907Z"
    }
   },
   "outputs": [
    {
     "data": {
      "image/png": "[encoded data removed]",
      "text/plain": [
       "<matplotlib.figure.Figure at 0x7f3327b50cc0>"
      ]
     },
     "metadata": {},
     "output_type": "display_data"
    }
   ],
   "source": [
    "def get_single(fl):\n",
    "    return 'single_region/fl=100_lens=%d_act=relu_pool_s=1_kmax=None_wv_d=0.0_pool_d=0.5_conv_bn=0_pool_bn=0' % fl\n",
    "\n",
    "filter_lengths = list(range(1,8))\n",
    "models = [get_single(fl) for fl in filter_lengths]\n",
    "scores = [get_score(m) for m in models]\n",
    "plot_scores(filter_lengths, scores, 'Velikost filtrov')"
   ]
  },
  {
   "cell_type": "markdown",
   "metadata": {},
   "source": [
    "### Multiple filter lengths"
   ]
  },
  {
   "cell_type": "code",
   "execution_count": 8,
   "metadata": {
    "ExecuteTime": {
     "end_time": "2017-10-12T21:41:08.242287Z",
     "start_time": "2017-10-12T21:41:07.987346Z"
    }
   },
   "outputs": [
    {
     "name": "stdout",
     "output_type": "stream",
     "text": [
      "| velikost filtrov   |    MAP |\n",
      "|:-------------------|-------:|\n",
      "| 4                  | 0.1627 |\n",
      "| 2, 3, 4            | 0.2639 |\n",
      "| 3, 4, 5            | 0.2661 |\n",
      "| 4, 5, 6            | 0.2591 |\n",
      "| 4, 4, 4            | 0.2681 |\n",
      "| 3, 4, 5, 6         | 0.2872 |\n",
      "| 4, 4, 4, 4         | 0.2897 |\n"
     ]
    }
   ],
   "source": [
    "args = 'fl=100_lens=%s_act=relu_pool_s=1_kmax=None_wv_d=0.0_pool_d=0.5_conv_bn=0_pool_bn=0'\n",
    "\n",
    "models = [\n",
    "    ('4', 'single_region/' + args % '4'),\n",
    "    ('2, 3, 4', 'multiple_regions/' + args % '2-3-4'),\n",
    "    ('3, 4, 5', 'word_vectors/' + args % '3-4-5'),\n",
    "    ('4, 5, 6', 'multiple_regions/' + args % '4-5-6'),\n",
    "    ('4, 4, 4', 'multiple_regions/' + args % '4-4-4'),\n",
    "    ('3, 4, 5, 6', 'multiple_regions/' + args % '3-4-5-6'),\n",
    "    ('4, 4, 4, 4', 'multiple_regions/' + args % '4-4-4-4'),\n",
    "]\n",
    "\n",
    "conf, models = zip(*models)\n",
    "scores = [get_score(m) for m in models]\n",
    "headers = ['velikost filtrov', 'MAP']\n",
    "rows = zip(conf, scores)\n",
    "\n",
    "print(tabulate(rows, headers=headers, tablefmt='pipe', floatfmt=\".4f\"))"
   ]
  },
  {
   "cell_type": "markdown",
   "metadata": {
    "ExecuteTime": {
     "end_time": "2017-09-08T15:18:31.282110Z",
     "start_time": "2017-09-08T15:18:31.267400Z"
    }
   },
   "source": [
    "### Activations"
   ]
  },
  {
   "cell_type": "code",
   "execution_count": 9,
   "metadata": {
    "ExecuteTime": {
     "end_time": "2017-10-12T21:41:08.477954Z",
     "start_time": "2017-10-12T21:41:08.243566Z"
    }
   },
   "outputs": [
    {
     "name": "stdout",
     "output_type": "stream",
     "text": [
      "| aktivacijska funkcija   |    MAP |\n",
      "|:------------------------|-------:|\n",
      "| ReLU                    | 0.1627 |\n",
      "| sigmoid                 | 0.1582 |\n",
      "| softplus                | 0.1496 |\n",
      "| tanh                    | 0.2159 |\n",
      "| brez                    | 0.2154 |\n"
     ]
    }
   ],
   "source": [
    "args = 'fl=100_lens=4_act=%s_pool_s=1_kmax=None_wv_d=0.0_pool_d=0.5_conv_bn=0_pool_bn=0'\n",
    "\n",
    "models = [\n",
    "    ('ReLU', 'single_region/' + args % 'relu'),\n",
    "    ('sigmoid', 'activations/' + args % 'sigmoid'),\n",
    "    ('softplus', 'activations/' + args % 'softplus'),\n",
    "    ('tanh', 'activations/' + args % 'tanh'),\n",
    "    ('brez', 'activations/' + args % 'None'),\n",
    "]\n",
    "\n",
    "activations, models = zip(*models)\n",
    "scores = [get_score(m) for m in models]\n",
    "headers = ['aktivacijska funkcija', 'MAP']\n",
    "rows = zip(activations, scores)\n",
    "\n",
    "print(tabulate(rows, headers=headers, tablefmt='pipe', floatfmt=\".4f\"))"
   ]
  },
  {
   "cell_type": "markdown",
   "metadata": {
    "ExecuteTime": {
     "end_time": "2017-09-08T15:18:47.475291Z",
     "start_time": "2017-09-08T15:18:47.451737Z"
    }
   },
   "source": [
    "### Dropout"
   ]
  },
  {
   "cell_type": "code",
   "execution_count": 10,
   "metadata": {
    "ExecuteTime": {
     "end_time": "2017-10-12T21:41:08.951049Z",
     "start_time": "2017-10-12T21:41:08.479198Z"
    }
   },
   "outputs": [
    {
     "data": {
      "image/png": "[encoded data removed]",
      "text/plain": [
       "<matplotlib.figure.Figure at 0x7f3327b4a160>"
      ]
     },
     "metadata": {},
     "output_type": "display_data"
    }
   ],
   "source": [
    "def get(p):\n",
    "    return 'dropout/fl=300_lens=4_act=tanh_pool_s=1_kmax=None_wv_d=0.0_pool_d=%.1f_conv_bn=0_pool_bn=0' % p\n",
    "\n",
    "\n",
    "rates = [.0, .3, .7]\n",
    "models = [get(p) for p in rates]\n",
    "scores = [get_score(m) for m in models]\n",
    "plot_scores(rates, scores, 'Stopnja dropouta')"
   ]
  },
  {
   "cell_type": "markdown",
   "metadata": {},
   "source": [
    "### Number of filters"
   ]
  },
  {
   "cell_type": "code",
   "execution_count": 11,
   "metadata": {},
   "outputs": [
    {
     "data": {
      "image/png": "[encoded data removed]",
      "text/plain": [
       "<matplotlib.figure.Figure at 0x7f3325a9bf98>"
      ]
     },
     "metadata": {},
     "output_type": "display_data"
    }
   ],
   "source": [
    "def get(nb):\n",
    "    return 'fl=%d_lens=4_act=tanh_pool_s=1_kmax=None_wv_d=0.0_pool_d=0.0_conv_bn=0_pool_bn=0' % nb\n",
    "\n",
    "models = [\n",
    "    (200, 5*60 + 43, 'nb_filters/' + get(200)),\n",
    "    (300, 6*60 + 17, 'dropout/' + get(300)),\n",
    "    (500, 7*60 + 3, 'nb_filters/' + get(500)),\n",
    "    (700, 8*60 + 13, 'nb_filters/' + get(700)),\n",
    "    (1000, 9*60 + 30, 'nb_filters/' + get(1000)),\n",
    "]\n",
    "\n",
    "nb_filters, times, models = zip(*models)\n",
    "scores = [get_score(m) for m in models]\n",
    "plot_scores(nb_filters, scores, 'Število filtrov')\n",
    "plt.twinx()\n",
    "plt.plot(nb_filters, times, 'ro--')\n",
    "plt.ylabel('Učenje v minutah');"
   ]
  },
  {
   "cell_type": "markdown",
   "metadata": {
    "ExecuteTime": {
     "end_time": "2017-09-14T09:10:57.475339Z",
     "start_time": "2017-09-14T09:10:57.449826Z"
    }
   },
   "source": [
    "### Regularization"
   ]
  },
  {
   "cell_type": "code",
   "execution_count": 12,
   "metadata": {
    "ExecuteTime": {
     "end_time": "2017-10-12T21:41:09.616799Z",
     "start_time": "2017-10-12T21:41:09.433051Z"
    }
   },
   "outputs": [
    {
     "name": "stdout",
     "output_type": "stream",
     "text": [
      "| normalizacija   |    MAP |\n",
      "|:----------------|-------:|\n",
      "| ne              | 0.4415 |\n",
      "| da              | 0.4713 |\n"
     ]
    }
   ],
   "source": [
    "def get(b):\n",
    "    return 'nb_filters/fl=1000_lens=4_act=tanh_pool_s=1_kmax=None_wv_d=0.0_pool_d=0.0_conv_bn=%d_pool_bn=0' % b\n",
    "\n",
    "models = [\n",
    "    ('ne', get(0)),\n",
    "    ('da', get(1)),\n",
    "]\n",
    "\n",
    "conf, models = zip(*models)\n",
    "scores = [get_score(m) for m in models]\n",
    "headers = ['normalizacija', 'MAP']\n",
    "rows = zip(conf, scores)\n",
    "\n",
    "print(tabulate(rows, headers=headers, tablefmt='pipe', floatfmt=\".4f\"))"
   ]
  }
 ],
 "metadata": {
  "kernelspec": {
   "display_name": "Python 3",
   "language": "python",
   "name": "python3"
  },
  "language_info": {
   "codemirror_mode": {
    "name": "ipython",
    "version": 3
   },
   "file_extension": ".py",
   "mimetype": "text/x-python",
   "name": "python",
   "nbconvert_exporter": "python",
   "pygments_lexer": "ipython3",
   "version": "3.5.3"
  }
 },
 "nbformat": 4,
 "nbformat_minor": 2
}
