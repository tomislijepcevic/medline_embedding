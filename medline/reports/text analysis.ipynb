{
 "cells": [
  {
   "cell_type": "code",
   "execution_count": 1,
   "metadata": {},
   "outputs": [],
   "source": [
    "%load_ext autoreload\n",
    "%autoreload 2"
   ]
  },
  {
   "cell_type": "code",
   "execution_count": null,
   "metadata": {},
   "outputs": [],
   "source": [
    "import sys\n",
    "sys.path.insert(0,'../../')"
   ]
  },
  {
   "cell_type": "code",
   "execution_count": 2,
   "metadata": {},
   "outputs": [],
   "source": [
    "import pandas as pd"
   ]
  },
  {
   "cell_type": "code",
   "execution_count": 3,
   "metadata": {},
   "outputs": [],
   "source": [
    "from medline.dataprep import TRAIN_TEXTS_FILE\n",
    "from gensim.models.word2vec import LineSentence"
   ]
  },
  {
   "cell_type": "code",
   "execution_count": 4,
   "metadata": {},
   "outputs": [],
   "source": [
    "docs = LineSentence(TRAIN_TEXTS_FILE)"
   ]
  },
  {
   "cell_type": "code",
   "execution_count": 5,
   "metadata": {},
   "outputs": [],
   "source": [
    "from gensim.models.word2vec import Word2Vec"
   ]
  },
  {
   "cell_type": "code",
   "execution_count": 6,
   "metadata": {},
   "outputs": [],
   "source": [
    "model = Word2Vec(min_count=0, sample=0)\n",
    "model.scan_vocab(docs)"
   ]
  },
  {
   "cell_type": "code",
   "execution_count": 7,
   "metadata": {},
   "outputs": [],
   "source": [
    "unique_words = len(model.raw_vocab)\n",
    "min_count = list(range(1,20))\n",
    "\n",
    "rows = []\n",
    "for m in min_count:\n",
    "    report = model.scale_vocab(min_count=m, dry_run=True)\n",
    "\n",
    "    drop_unique = report['drop_unique']\n",
    "    retain_total = report['retain_total']\n",
    "    retain_unique = unique_words - drop_unique\n",
    "    row = [drop_unique, retain_unique, retain_total]\n",
    "    rows.append(row)\n",
    "    \n",
    "columns = ['drop_unique', 'retain_unique', 'retain_total']\n",
    "df = pd.DataFrame(rows, min_count, columns)"
   ]
  },
  {
   "cell_type": "code",
   "execution_count": 8,
   "metadata": {},
   "outputs": [
    {
     "data": {
      "text/html": [
       "<div>\n",
       "<style scoped>\n",
       "    .dataframe tbody tr th:only-of-type {\n",
       "        vertical-align: middle;\n",
       "    }\n",
       "\n",
       "    .dataframe tbody tr th {\n",
       "        vertical-align: top;\n",
       "    }\n",
       "\n",
       "    .dataframe thead th {\n",
       "        text-align: right;\n",
       "    }\n",
       "</style>\n",
       "<table border=\"1\" class=\"dataframe\">\n",
       "  <thead>\n",
       "    <tr style=\"text-align: right;\">\n",
       "      <th></th>\n",
       "      <th>drop_unique</th>\n",
       "      <th>retain_unique</th>\n",
       "      <th>retain_total</th>\n",
       "    </tr>\n",
       "  </thead>\n",
       "  <tbody>\n",
       "    <tr>\n",
       "      <th>1</th>\n",
       "      <td>0</td>\n",
       "      <td>2703192</td>\n",
       "      <td>2165549630</td>\n",
       "    </tr>\n",
       "    <tr>\n",
       "      <th>2</th>\n",
       "      <td>1135235</td>\n",
       "      <td>1567957</td>\n",
       "      <td>2164414395</td>\n",
       "    </tr>\n",
       "    <tr>\n",
       "      <th>3</th>\n",
       "      <td>1521762</td>\n",
       "      <td>1181430</td>\n",
       "      <td>2163641341</td>\n",
       "    </tr>\n",
       "    <tr>\n",
       "      <th>4</th>\n",
       "      <td>1733123</td>\n",
       "      <td>970069</td>\n",
       "      <td>2163007258</td>\n",
       "    </tr>\n",
       "    <tr>\n",
       "      <th>5</th>\n",
       "      <td>1872763</td>\n",
       "      <td>830429</td>\n",
       "      <td>2162448698</td>\n",
       "    </tr>\n",
       "    <tr>\n",
       "      <th>6</th>\n",
       "      <td>1972352</td>\n",
       "      <td>730840</td>\n",
       "      <td>2161950753</td>\n",
       "    </tr>\n",
       "    <tr>\n",
       "      <th>7</th>\n",
       "      <td>2047580</td>\n",
       "      <td>655612</td>\n",
       "      <td>2161499385</td>\n",
       "    </tr>\n",
       "    <tr>\n",
       "      <th>8</th>\n",
       "      <td>2105003</td>\n",
       "      <td>598189</td>\n",
       "      <td>2161097424</td>\n",
       "    </tr>\n",
       "    <tr>\n",
       "      <th>9</th>\n",
       "      <td>2151226</td>\n",
       "      <td>551966</td>\n",
       "      <td>2160727640</td>\n",
       "    </tr>\n",
       "    <tr>\n",
       "      <th>10</th>\n",
       "      <td>2188526</td>\n",
       "      <td>514666</td>\n",
       "      <td>2160391940</td>\n",
       "    </tr>\n",
       "    <tr>\n",
       "      <th>11</th>\n",
       "      <td>2219715</td>\n",
       "      <td>483477</td>\n",
       "      <td>2160080050</td>\n",
       "    </tr>\n",
       "    <tr>\n",
       "      <th>12</th>\n",
       "      <td>2245949</td>\n",
       "      <td>457243</td>\n",
       "      <td>2159791476</td>\n",
       "    </tr>\n",
       "    <tr>\n",
       "      <th>13</th>\n",
       "      <td>2268427</td>\n",
       "      <td>434765</td>\n",
       "      <td>2159521740</td>\n",
       "    </tr>\n",
       "    <tr>\n",
       "      <th>14</th>\n",
       "      <td>2287939</td>\n",
       "      <td>415253</td>\n",
       "      <td>2159268084</td>\n",
       "    </tr>\n",
       "    <tr>\n",
       "      <th>15</th>\n",
       "      <td>2304986</td>\n",
       "      <td>398206</td>\n",
       "      <td>2159029426</td>\n",
       "    </tr>\n",
       "    <tr>\n",
       "      <th>16</th>\n",
       "      <td>2320204</td>\n",
       "      <td>382988</td>\n",
       "      <td>2158801156</td>\n",
       "    </tr>\n",
       "    <tr>\n",
       "      <th>17</th>\n",
       "      <td>2334080</td>\n",
       "      <td>369112</td>\n",
       "      <td>2158579140</td>\n",
       "    </tr>\n",
       "    <tr>\n",
       "      <th>18</th>\n",
       "      <td>2346539</td>\n",
       "      <td>356653</td>\n",
       "      <td>2158367337</td>\n",
       "    </tr>\n",
       "    <tr>\n",
       "      <th>19</th>\n",
       "      <td>2357861</td>\n",
       "      <td>345331</td>\n",
       "      <td>2158163541</td>\n",
       "    </tr>\n",
       "  </tbody>\n",
       "</table>\n",
       "</div>"
      ],
      "text/plain": [
       "    drop_unique  retain_unique  retain_total\n",
       "1             0        2703192    2165549630\n",
       "2       1135235        1567957    2164414395\n",
       "3       1521762        1181430    2163641341\n",
       "4       1733123         970069    2163007258\n",
       "5       1872763         830429    2162448698\n",
       "6       1972352         730840    2161950753\n",
       "7       2047580         655612    2161499385\n",
       "8       2105003         598189    2161097424\n",
       "9       2151226         551966    2160727640\n",
       "10      2188526         514666    2160391940\n",
       "11      2219715         483477    2160080050\n",
       "12      2245949         457243    2159791476\n",
       "13      2268427         434765    2159521740\n",
       "14      2287939         415253    2159268084\n",
       "15      2304986         398206    2159029426\n",
       "16      2320204         382988    2158801156\n",
       "17      2334080         369112    2158579140\n",
       "18      2346539         356653    2158367337\n",
       "19      2357861         345331    2158163541"
      ]
     },
     "execution_count": 8,
     "metadata": {},
     "output_type": "execute_result"
    }
   ],
   "source": [
    "df"
   ]
  },
  {
   "cell_type": "code",
   "execution_count": 9,
   "metadata": {},
   "outputs": [],
   "source": [
    "sampling=[1e-3, 1e-4, 1e-5]\n",
    "\n",
    "rows = []\n",
    "for s in sampling:\n",
    "    report = model.scale_vocab(sample=s, dry_run=True)\n",
    "\n",
    "    downsample_unique = report['downsample_unique']\n",
    "    downsample_total = report['downsample_total']\n",
    "    row = [downsample_unique, downsample_total]\n",
    "    rows.append(row)\n",
    "\n",
    "columns = ['downsample_unique', 'downsample_total']\n",
    "df = pd.DataFrame(rows, sampling, columns)"
   ]
  },
  {
   "cell_type": "code",
   "execution_count": 10,
   "metadata": {},
   "outputs": [
    {
     "data": {
      "text/html": [
       "<div>\n",
       "<style scoped>\n",
       "    .dataframe tbody tr th:only-of-type {\n",
       "        vertical-align: middle;\n",
       "    }\n",
       "\n",
       "    .dataframe tbody tr th {\n",
       "        vertical-align: top;\n",
       "    }\n",
       "\n",
       "    .dataframe thead th {\n",
       "        text-align: right;\n",
       "    }\n",
       "</style>\n",
       "<table border=\"1\" class=\"dataframe\">\n",
       "  <thead>\n",
       "    <tr style=\"text-align: right;\">\n",
       "      <th></th>\n",
       "      <th>downsample_unique</th>\n",
       "      <th>downsample_total</th>\n",
       "    </tr>\n",
       "  </thead>\n",
       "  <tbody>\n",
       "    <tr>\n",
       "      <th>0.00100</th>\n",
       "      <td>30</td>\n",
       "      <td>1605217174</td>\n",
       "    </tr>\n",
       "    <tr>\n",
       "      <th>0.00010</th>\n",
       "      <td>414</td>\n",
       "      <td>1197058791</td>\n",
       "    </tr>\n",
       "    <tr>\n",
       "      <th>0.00001</th>\n",
       "      <td>3635</td>\n",
       "      <td>668181115</td>\n",
       "    </tr>\n",
       "  </tbody>\n",
       "</table>\n",
       "</div>"
      ],
      "text/plain": [
       "         downsample_unique  downsample_total\n",
       "0.00100                 30        1605217174\n",
       "0.00010                414        1197058791\n",
       "0.00001               3635         668181115"
      ]
     },
     "execution_count": 10,
     "metadata": {},
     "output_type": "execute_result"
    }
   ],
   "source": [
    "df"
   ]
  },
  {
   "cell_type": "code",
   "execution_count": 11,
   "metadata": {},
   "outputs": [
    {
     "data": {
      "text/plain": [
       "{'downsample_total': 2159268084,\n",
       " 'downsample_unique': 0,\n",
       " 'drop_unique': 2287939,\n",
       " 'memory': {'syn0': 166101200,\n",
       "  'syn1neg': 166101200,\n",
       "  'total': 539828900,\n",
       "  'vocab': 207626500},\n",
       " 'retain_total': 2159268084}"
      ]
     },
     "execution_count": 11,
     "metadata": {},
     "output_type": "execute_result"
    }
   ],
   "source": [
    "model.scale_vocab(min_count=14)"
   ]
  },
  {
   "cell_type": "code",
   "execution_count": 12,
   "metadata": {},
   "outputs": [],
   "source": [
    "word_count = {k: v.count for k, v in model.wv.vocab.items()}\n",
    "word_count = sorted(word_count.items(), key=lambda d: -d[1])\n",
    "word, count = zip(*word_count)\n",
    "\n",
    "df = pd.DataFrame(list(count), word, ['word'])"
   ]
  },
  {
   "cell_type": "code",
   "execution_count": 13,
   "metadata": {},
   "outputs": [
    {
     "data": {
      "text/html": [
       "<div>\n",
       "<style scoped>\n",
       "    .dataframe tbody tr th:only-of-type {\n",
       "        vertical-align: middle;\n",
       "    }\n",
       "\n",
       "    .dataframe tbody tr th {\n",
       "        vertical-align: top;\n",
       "    }\n",
       "\n",
       "    .dataframe thead th {\n",
       "        text-align: right;\n",
       "    }\n",
       "</style>\n",
       "<table border=\"1\" class=\"dataframe\">\n",
       "  <thead>\n",
       "    <tr style=\"text-align: right;\">\n",
       "      <th></th>\n",
       "      <th>word</th>\n",
       "    </tr>\n",
       "  </thead>\n",
       "  <tbody>\n",
       "    <tr>\n",
       "      <th>.</th>\n",
       "      <td>108329162</td>\n",
       "    </tr>\n",
       "    <tr>\n",
       "      <th>the</th>\n",
       "      <td>97640187</td>\n",
       "    </tr>\n",
       "    <tr>\n",
       "      <th>of</th>\n",
       "      <td>84912442</td>\n",
       "    </tr>\n",
       "    <tr>\n",
       "      <th>,</th>\n",
       "      <td>78334878</td>\n",
       "    </tr>\n",
       "    <tr>\n",
       "      <th>and</th>\n",
       "      <td>63622627</td>\n",
       "    </tr>\n",
       "  </tbody>\n",
       "</table>\n",
       "</div>"
      ],
      "text/plain": [
       "          word\n",
       ".    108329162\n",
       "the   97640187\n",
       "of    84912442\n",
       ",     78334878\n",
       "and   63622627"
      ]
     },
     "execution_count": 13,
     "metadata": {},
     "output_type": "execute_result"
    }
   ],
   "source": [
    "df.head()"
   ]
  },
  {
   "cell_type": "code",
   "execution_count": 14,
   "metadata": {},
   "outputs": [
    {
     "data": {
      "text/html": [
       "<div>\n",
       "<style scoped>\n",
       "    .dataframe tbody tr th:only-of-type {\n",
       "        vertical-align: middle;\n",
       "    }\n",
       "\n",
       "    .dataframe tbody tr th {\n",
       "        vertical-align: top;\n",
       "    }\n",
       "\n",
       "    .dataframe thead th {\n",
       "        text-align: right;\n",
       "    }\n",
       "</style>\n",
       "<table border=\"1\" class=\"dataframe\">\n",
       "  <thead>\n",
       "    <tr style=\"text-align: right;\">\n",
       "      <th></th>\n",
       "      <th>word</th>\n",
       "    </tr>\n",
       "  </thead>\n",
       "  <tbody>\n",
       "    <tr>\n",
       "      <th>browner</th>\n",
       "      <td>14</td>\n",
       "    </tr>\n",
       "    <tr>\n",
       "      <th>ertr</th>\n",
       "      <td>14</td>\n",
       "    </tr>\n",
       "    <tr>\n",
       "      <th>wealthmod</th>\n",
       "      <td>14</td>\n",
       "    </tr>\n",
       "    <tr>\n",
       "      <th>hpv20</th>\n",
       "      <td>14</td>\n",
       "    </tr>\n",
       "    <tr>\n",
       "      <th>tmia</th>\n",
       "      <td>14</td>\n",
       "    </tr>\n",
       "  </tbody>\n",
       "</table>\n",
       "</div>"
      ],
      "text/plain": [
       "           word\n",
       "browner      14\n",
       "ertr         14\n",
       "wealthmod    14\n",
       "hpv20        14\n",
       "tmia         14"
      ]
     },
     "execution_count": 14,
     "metadata": {},
     "output_type": "execute_result"
    }
   ],
   "source": [
    "df.tail()"
   ]
  },
  {
   "cell_type": "code",
   "execution_count": 15,
   "metadata": {},
   "outputs": [],
   "source": [
    "import numpy as np\n",
    "\n",
    "lengths = [len([w for w in doc if w in model.wv.vocab])\n",
    "           for doc in docs]\n",
    "\n",
    "percentiles = [50, 95, 99, 99.5, 99.9, 99.99]\n",
    "\n",
    "rows = []\n",
    "for percentile in percentiles:\n",
    "    rows.append(int(np.percentile(lengths, percentile)))\n",
    "    \n",
    "df = pd.DataFrame(rows, percentiles, ['length'])"
   ]
  },
  {
   "cell_type": "code",
   "execution_count": 16,
   "metadata": {},
   "outputs": [
    {
     "data": {
      "text/html": [
       "<div>\n",
       "<style scoped>\n",
       "    .dataframe tbody tr th:only-of-type {\n",
       "        vertical-align: middle;\n",
       "    }\n",
       "\n",
       "    .dataframe tbody tr th {\n",
       "        vertical-align: top;\n",
       "    }\n",
       "\n",
       "    .dataframe thead th {\n",
       "        text-align: right;\n",
       "    }\n",
       "</style>\n",
       "<table border=\"1\" class=\"dataframe\">\n",
       "  <thead>\n",
       "    <tr style=\"text-align: right;\">\n",
       "      <th></th>\n",
       "      <th>length</th>\n",
       "    </tr>\n",
       "  </thead>\n",
       "  <tbody>\n",
       "    <tr>\n",
       "      <th>50.00</th>\n",
       "      <td>229</td>\n",
       "    </tr>\n",
       "    <tr>\n",
       "      <th>95.00</th>\n",
       "      <td>395</td>\n",
       "    </tr>\n",
       "    <tr>\n",
       "      <th>99.00</th>\n",
       "      <td>498</td>\n",
       "    </tr>\n",
       "    <tr>\n",
       "      <th>99.50</th>\n",
       "      <td>547</td>\n",
       "    </tr>\n",
       "    <tr>\n",
       "      <th>99.90</th>\n",
       "      <td>691</td>\n",
       "    </tr>\n",
       "    <tr>\n",
       "      <th>99.99</th>\n",
       "      <td>1034</td>\n",
       "    </tr>\n",
       "  </tbody>\n",
       "</table>\n",
       "</div>"
      ],
      "text/plain": [
       "       length\n",
       "50.00     229\n",
       "95.00     395\n",
       "99.00     498\n",
       "99.50     547\n",
       "99.90     691\n",
       "99.99    1034"
      ]
     },
     "execution_count": 16,
     "metadata": {},
     "output_type": "execute_result"
    }
   ],
   "source": [
    "df"
   ]
  }
 ],
 "metadata": {
  "kernelspec": {
   "display_name": "Python 3",
   "language": "python",
   "name": "python3"
  },
  "language_info": {
   "codemirror_mode": {
    "name": "ipython",
    "version": 3
   },
   "file_extension": ".py",
   "mimetype": "text/x-python",
   "name": "python",
   "nbconvert_exporter": "python",
   "pygments_lexer": "ipython3",
   "version": "3.5.3"
  }
 },
 "nbformat": 4,
 "nbformat_minor": 2
}
